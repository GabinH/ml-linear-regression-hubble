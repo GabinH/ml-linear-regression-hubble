{
 "cells": [
  {
   "cell_type": "code",
   "execution_count": 1,
   "metadata": {},
   "outputs": [],
   "source": [
    "import matplotlib.pyplot as plt\n",
    "import numpy as np\n",
    "import math\n",
    "\n",
    "from sklearn import linear_model\n",
    "\n",
    "from sklearn.metrics import mean_squared_error, r2_score\n",
    "\n",
    "rawData = np.genfromtxt('data/hubble_data.csv', delimiter=',', encoding=None, dtype=float)\n",
    "\n",
    "# don't keep titles\n",
    "data = rawData[1:]\n",
    "\n",
    "N = int(data.size / 2)\n",
    "N_train = int(math.floor(N * 0.8) - 1)\n",
    "\n",
    "x_train = data[:N_train, 0].reshape(-1, 1)\n",
    "y_train = data[:N_train, 1]\n",
    "\n",
    "x_test = data[N_train:, 0].reshape(-1, 1)\n",
    "y_test = data[N_train:, 1]"
   ]
  },
  {
   "cell_type": "code",
   "execution_count": 2,
   "metadata": {},
   "outputs": [
    {
     "name": "stdout",
     "output_type": "stream",
     "text": [
      "[653.38447016 809.46516185 965.54585353 965.54585353 965.54585353\n",
      " 965.54585353]\n",
      "[ 500.  960.  500.  850.  800. 1090.]\n"
     ]
    }
   ],
   "source": [
    "# Create linear regression object\n",
    "regr = linear_model.LinearRegression()\n",
    "\n",
    "# Train the model using the training sets\n",
    "regr.fit(x_train, y_train)\n",
    "\n",
    "# Make predictions using the testing set\n",
    "y_pred = regr.predict(x_test)\n",
    "\n",
    "print(y_pred)\n",
    "print(y_test)"
   ]
  },
  {
   "cell_type": "code",
   "execution_count": 3,
   "metadata": {},
   "outputs": [
    {
     "data": {
      "text/plain": [
       "[<matplotlib.lines.Line2D at 0x132aa0e50>]"
      ]
     },
     "execution_count": 3,
     "metadata": {},
     "output_type": "execute_result"
    },
    {
     "data": {
      "image/png": "[encoded data removed]",
      "text/plain": [
       "<Figure size 432x288 with 1 Axes>"
      ]
     },
     "metadata": {
      "needs_background": "light"
     },
     "output_type": "display_data"
    }
   ],
   "source": [
    "plt.figure()\n",
    "plt.scatter(x_train, y_train)\n",
    "plt.plot(x_train, regr.predict(x_train), color='blue', linewidth=3)\n",
    "\n",
    "plt.scatter(x_test,y_test)\n",
    "plt.plot(x_test, y_pred, color='red', linewidth=3)"
   ]
  },
  {
   "cell_type": "code",
   "execution_count": 4,
   "metadata": {},
   "outputs": [
    {
     "name": "stdout",
     "output_type": "stream",
     "text": [
      "Coefficients :  [520.26897227]\n",
      "Mean squared error : 53194.26\n",
      "Coefficient of determination : -0.10\n"
     ]
    }
   ],
   "source": [
    "# The coefficients\n",
    "print('Coefficients : ', regr.coef_)\n",
    "# The mean squared error\n",
    "print('Mean squared error : %.2f'\n",
    "      % mean_squared_error(y_test, y_pred))\n",
    "# The coefficient of determination: 1 is perfect prediction\n",
    "print('Coefficient of determination : %.2f'\n",
    "      % r2_score(y_test, y_pred))"
   ]
  },
  {
   "cell_type": "code",
   "execution_count": null,
   "metadata": {},
   "outputs": [],
   "source": []
  }
 ],
 "metadata": {
  "kernelspec": {
   "display_name": "Python 3",
   "language": "python",
   "name": "python3"
  },
  "language_info": {
   "codemirror_mode": {
    "name": "ipython",
    "version": 3
   },
   "file_extension": ".py",
   "mimetype": "text/x-python",
   "name": "python",
   "nbconvert_exporter": "python",
   "pygments_lexer": "ipython3",
   "version": "3.9.0"
  }
 },
 "nbformat": 4,
 "nbformat_minor": 4
}
